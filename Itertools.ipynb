
import itertools

# Создаем итератор, содержащий числа от 1 до 10
numbers = iter(range(1, 11))

# Получаем срез из первых 5 элементов
sliced_numbers = itertools.islice(numbers, 5)

# Выводим элементы среза
for num in sliced_numbers:
    print(num)

===

import itertools

# Создаем список из букв
letters = ['a', 'b', 'c']

# Генерируем все комбинации букв по 2
combinations = itertools.combinations(letters, 2)

# Выводим все комбинации
for combo in combinations:
    print(combo)

===

import itertools

# Создаем два списка
list1 = [1, 2, 3]
list2 = [4, 5, 6]

# Объединяем их в один итератор
merged_list = itertools.chain(list1, list2)

# Выводим элементы объединенного списка
for item in merged_list:
    print(item)

===

import itertools

# Создаем список из строк с разными длинами
words = ['apple', 'banana', 'carrot', 'cat', 'elephant']

# Сортируем список по длине слов
words.sort(key=len)

# Группируем слова по длине
groups = itertools.groupby(words, key=len)

# Выводим группы слов
for key, group in groups:
    print(f'Words with length {key}: {list(group)}')

===

import itertools

# Создаем декартово произведение двух списков
list1 = [1, 2]
list2 = ['a', 'b']

product = itertools.product(list1, list2)

# Выводим все пары из декартова произведения
for pair in product:
    print(pair)
