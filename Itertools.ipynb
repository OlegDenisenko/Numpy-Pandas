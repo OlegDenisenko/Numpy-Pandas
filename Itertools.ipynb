{
  "nbformat": 4,
  "nbformat_minor": 0,
  "metadata": {
    "colab": {
      "provenance": [],
      "authorship_tag": "ABX9TyPA6D7pZk11S9KCGVe7PI64",
      "include_colab_link": true
    },
    "kernelspec": {
      "name": "python3",
      "display_name": "Python 3"
    },
    "language_info": {
      "name": "python"
    }
  },
  "cells": [
    {
      "cell_type": "markdown",
      "metadata": {
        "id": "view-in-github",
        "colab_type": "text"
      },
      "source": [
        "<a href=\"https://colab.research.google.com/github/OlegDenisenko/Numpy-Pandas/blob/main/Itertools.ipynb\" target=\"_parent\"><img src=\"https://colab.research.google.com/assets/colab-badge.svg\" alt=\"Open In Colab\"/></a>"
      ]
    },
    {
      "cell_type": "code",
      "execution_count": null,
      "metadata": {
        "id": "qGosTggaHjK4"
      },
      "outputs": [],
      "source": [
        "import itertools\n",
        "\n",
        "# Создаем бесконечный цикл из элементов списка\n",
        "cycle = itertools.cycle([1, 2, 3])\n",
        "\n",
        "# Выводим первые 10 элементов цикла\n",
        "for i in range(10):\n",
        "    print(next(cycle))"
      ]
    }
  ]
}