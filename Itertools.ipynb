
import itertools

# Создаем итератор, содержащий числа от 1 до 10
numbers = iter(range(1, 11))

# Получаем срез из первых 5 элементов
sliced_numbers = itertools.islice(numbers, 5)

# Выводим элементы среза
for num in sliced_numbers:
    print(num)

===
 
# Создаем список из букв
letters = ['a', 'b', 'c']

# Генерируем все комбинации букв по 2
combinations = itertools.combinations(letters, 2)

# Выводим все комбинации
for combo in combinations:
    print(combo)

===
 
# Создаем два списка
list1 = [1, 2, 3]
list2 = [4, 5, 6]

# Объединяем их в один итератор
merged_list = itertools.chain(list1, list2)

# Выводим элементы объединенного списка
for item in merged_list:
    print(item)

===

# Создаем список из строк с разными длинами
words = ['apple', 'banana', 'carrot', 'cat', 'elephant']

# Сортируем список по длине слов
words.sort(key=len)

# Группируем слова по длине
groups = itertools.groupby(words, key=len)

# Выводим группы слов
for key, group in groups:
    print(f'Words with length {key}: {list(group)}')

===

# Создаем декартово произведение двух списков
list1 = [1, 2]
list2 = ['a', 'b']

product = itertools.product(list1, list2)

# Выводим все пары из декартова произведения
for pair in product:
    print(pair)

===

# Создаем итератор
numbers = iter(range(1, 6))

# Создаем два независимых итератора
iter1, iter2 = itertools.tee(numbers, 2)

===

# Создаем два списка разной длины
list1 = [1, 2, 3]
list2 = ['a', 'b']

# Объединяем их, дополняя отсутствующие значения None
zipped = itertools.zip_longest(list1, list2)

# Выводим пары значений
for pair in zipped:
    print(pair)


# Выводим элементы из обоих итераторов
for num1, num2 in zip(iter1, iter2):
    print(num1, num2)

===

# Создаем список чисел
numbers = [1, 2, 3, 4, 5, 6]

# Фильтруем числа, оставляя только нечетные
filtered = itertools.filterfalse(lambda x: x % 2 == 0, numbers)

# Выводим нечетные числа
for odd in filtered:
    print(odd)

===

# Создаем бесконечный итератор, начиная с 1
counter = itertools.count(start=1)

# Выводим первые 5 чисел
for i in range(5):
    print(next(counter))

===

# Create all permutations of two elements from a list
elements = ['a', 'b', 'c']
permutations = itertools.permutations(elements, 2)

# Print all permutations
for perm in permutations:
    print(perm)

===

# Create an iterable with numbers
numbers = [1, 3, 5, 2, 4, 6]

# Drop elements while they are less than 4
filtered = itertools.dropwhile(lambda x: x < 4, numbers)

# Print the filtered elements
for num in filtered:
    print(num)

===

# Create two lists
data = ['a', 'b', 'c', 'd', 'e']
selector = [True, False, True, False, True]

# Use compress to filter elements based on the selector
filtered = itertools.compress(data, selector)

# Print the filtered elements
for item in filtered:
    print(item)

===

# Create a list of dictionaries with 'category' keys
data = [
    {'category': 'fruit', 'name': 'apple'},
    {'category': 'fruit', 'name': 'banana'},
    {'category': 'vegetable', 'name': 'carrot'},
    {'category': 'vegetable', 'name': 'celery'},
]

# Group dictionaries by 'category'
data.sort(key=lambda x: x['category'])
grouped_data = {key: list(group) for key, group in itertools.groupby(data, key=lambda x: x['category'])}

# Print the grouped data
for category, items in grouped_data.items():
    print(f'Category: {category}')
    for item in items:
        print(f'  Name: {item["name"]}')
