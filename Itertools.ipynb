
import itertools

# Создаем итератор, содержащий числа от 1 до 10
numbers = iter(range(1, 11))

# Получаем срез из первых 5 элементов
sliced_numbers = itertools.islice(numbers, 5)

# Выводим элементы среза
for num in sliced_numbers:
    print(num)

===

import itertools

# Создаем список из букв
letters = ['a', 'b', 'c']

# Генерируем все комбинации букв по 2
combinations = itertools.combinations(letters, 2)

# Выводим все комбинации
for combo in combinations:
    print(combo)
